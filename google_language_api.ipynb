{
 "cells": [
  {
   "cell_type": "markdown",
   "metadata": {
    "colab_type": "text",
    "id": "view-in-github"
   },
   "source": [
    "<a href=\"https://colab.research.google.com/github/Vice10/ds_notebooks/blob/main/google_language_api.ipynb\" target=\"_parent\"><img src=\"https://colab.research.google.com/assets/colab-badge.svg\" alt=\"Open In Colab\"/></a>"
   ]
  },
  {
   "cell_type": "code",
   "execution_count": null,
   "metadata": {
    "id": "DhCku327IM7c"
   },
   "outputs": [],
   "source": [
    "from google.cloud import language_v1"
   ]
  },
  {
   "cell_type": "code",
   "execution_count": null,
   "metadata": {
    "id": "C1-JQyQdH7aN"
   },
   "outputs": [],
   "source": [
    "def analyse_sentiment(text):\n",
    "  client = language_v1.LanguageServiceClient()\n",
    "  document = language_v1.Document(content=text, type_=language_v1.Document.Type.PLAIN_TEXT)\n",
    "  sentiment = client.analyze_sentiment(request={'document': document}).document_sentiment\n",
    "  return \"Sentiment: {}, {}\".format(sentiment.score, sentiment.magnitude)\n",
    "\n",
    "def analyse_entity_sentiment(text):\n",
    "  client = language_v1.LanguageServiceClient()\n",
    "  document = language_v1.Document(content=text, type_=language_v1.Document.Type.PLAIN_TEXT)\n",
    "  response = client.analyze_entity_sentiment(document=document)\n",
    "  analysis = \"\"\n",
    "  for entity in response.entities:\n",
    "    analysis += \"name : \" + entity.name + \"\\n score: \" + str(entity.sentiment.score) + \"\\n magnitude: \" + str(entity.sentiment.magnitude)  + \"\\n\"\n",
    "  return analysis\n",
    "\n",
    "def analyse_entity(text):\n",
    "  client = language_v1.LanguageServiceClient()\n",
    "  document = language_v1.Document(content=text, type_=language_v1.Document.Type.PLAIN_TEXT)\n",
    "  response = client.analyze_entities(document=document)\n",
    "  analysis = \"\"\n",
    "  for entity in response.entities:\n",
    "    analysis += 'name: ' + entity.name + '\\n'\n",
    "    analysis += '  type: ' + str(entity.type_) + '\\n'\n",
    "    analysis += '  metadata: ' + str(entity.metadata) + '\\n'\n",
    "    analysis += '  salience: ' + str(entity.salience) + '\\n'\n",
    "  return analysis\n",
    "\n",
    "def classify_content(text):\n",
    "  client = language_v1.LanguageServiceClient()\n",
    "  document = language_v1.Document(content=text, type_=language_v1.Document.Type.PLAIN_TEXT)\n",
    "  response = client.classify_text(request={'document': document})\n",
    "  analysis = \"\"\n",
    "  for category in response.categories:\n",
    "    analysis += 'category: ' + category.name + '\\n'\n",
    "    analysis += '  confidence: ' + str(category.confidence) + '\\n'\n",
    "  return analysis\n",
    "\n",
    "if __name__ == \"__main__\":\n",
    "  text = run_session()\n",
    "  # sentiment analysis starts here\n",
    "  entity_analysis = analyse_entity(text)\n",
    "  sentiment = analyse_sentiment(text)\n",
    "  entity_sentiment = analyse_entity_sentiment(text)\n",
    "  text_classification = classify_content(text)\n",
    "  print(\"ENTITY ANALYSIS:\\n\" + entity_analysis + \"\\n\")\n",
    "  print(\"SENTIMENT ANALYSIS:\\n\" + sentiment)\n",
    "  print(\"ENTITY SENTIMENT ANALYSIS:\\n\" + entity_sentiment)\n",
    "  print(\"TEXT CLASSIFICATION:\\n\" + text_classification)"
   ]
  },
  {
   "cell_type": "code",
   "execution_count": null,
   "metadata": {
    "id": "HbUpYZd4Id3E"
   },
   "outputs": [],
   "source": [
    "print(analyse_sentiment(\"What a great day. I love my life and work\"))\n",
    "print(analyse_entity_sentiment(\"What a great day. I love my life and work. But the school is so bad\"))\n",
    "print(analyse_entity(\"What a great day. I love my life and work. But the school is so bad. Steve Jobs\"))\n",
    "print(classify_content(\"Google Home enables users to speak voice commands to interact with services through the Home's intelligent personal assistant called Google Assistant. A large number of services, both in-house and third-party, are integrated, allowing users to listen to music, look at videos or photos, or receive news updates entirely by voice\"))"
   ]
  },
  {
   "cell_type": "markdown",
   "metadata": {
    "id": "IxH0tn2ZIo86"
   },
   "source": [
    "\n",
    "\n",
    "```\n",
    "Sentiment: 0.8999999761581421, 1.899999976158142\n",
    "name : life\n",
    " score: 0.8999999761581421\n",
    " magnitude: 0.8999999761581421\n",
    "name : work\n",
    " score: 0.8999999761581421\n",
    " magnitude: 0.8999999761581421\n",
    "name : school\n",
    " score: -0.800000011920929\n",
    " magnitude: 0.800000011920929\n",
    "\n",
    "name: life\n",
    "  type: Type.OTHER\n",
    "  metadata: {}\n",
    "  salience: 0.38967499136924744\n",
    "name: work\n",
    "  type: Type.OTHER\n",
    "  metadata: {}\n",
    "  salience: 0.36725297570228577\n",
    "name: school\n",
    "  type: Type.ORGANIZATION\n",
    "  metadata: {}\n",
    "  salience: 0.13627128303050995\n",
    "name: Donald Trump\n",
    "  type: Type.PERSON\n",
    "  metadata: {'wikipedia_url': 'https://en.wikipedia.org/wiki/Donald_Trump', 'mid': '/m/0cqt90'}\n",
    "  salience: 0.10680074989795685\n",
    "\n",
    "category: /Computers & Electronics/Software\n",
    "  confidence: 0.550000011920929\n",
    "category: /Internet & Telecom\n",
    "  confidence: 0.5099999904632568\n",
    "```\n",
    "\n"
   ]
  }
 ],
 "metadata": {
  "colab": {
   "authorship_tag": "ABX9TyOc56CM4ocuaGekxf7U8lo0",
   "include_colab_link": true,
   "name": "cloud_comp_lab.ipynb",
   "provenance": []
  },
  "kernelspec": {
   "display_name": "Python 3 (ipykernel)",
   "language": "python",
   "name": "python3"
  },
  "language_info": {
   "codemirror_mode": {
    "name": "ipython",
    "version": 3
   },
   "file_extension": ".py",
   "mimetype": "text/x-python",
   "name": "python",
   "nbconvert_exporter": "python",
   "pygments_lexer": "ipython3",
   "version": "3.11.3"
  }
 },
 "nbformat": 4,
 "nbformat_minor": 1
}
